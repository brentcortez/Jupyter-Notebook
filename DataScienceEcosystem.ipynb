{
 "cells": [
  {
   "cell_type": "markdown",
   "id": "ba866ef0-4d9c-4016-9012-3aee8c4dc28f",
   "metadata": {},
   "source": [
    "# Data Science Tools and Ecosystem"
   ]
  },
  {
   "cell_type": "markdown",
   "id": "f2603422-a509-4f9d-a30d-acfea3f9fea9",
   "metadata": {},
   "source": [
    "In this notebook, Data Science Tools and Ecosystems are summarized."
   ]
  },
  {
   "cell_type": "markdown",
   "id": "54b1a559-fcd9-49f6-b0ad-9727d64ddb34",
   "metadata": {},
   "source": [
    "Some of the popular languages Data Scientist use are:\n",
    "1. Python\n",
    "2. R\n",
    "3. SQL\n"
   ]
  },
  {
   "cell_type": "markdown",
   "id": "2c687107-57c1-498f-833f-73e6c73131ca",
   "metadata": {},
   "source": [
    "Some of the commonly used libraries used by Data Scientists include:\n",
    "1. ggplot\n",
    "2. dplyr\n",
    "3. NumPy\n",
    "4. Pandas\n",
    "5. SciPy"
   ]
  },
  {
   "cell_type": "markdown",
   "id": "4bc15664-8e44-4c93-95b4-d2064c35cfed",
   "metadata": {},
   "source": [
    "| Data Science Tools |\n",
    "| ------------------ |\n",
    "| Rstudio |\n",
    "| Apache Spark |\n",
    "| Hadoop |"
   ]
  },
  {
   "cell_type": "markdown",
   "id": "98491a81-5605-4e72-9360-ee200aa9cad7",
   "metadata": {},
   "source": [
    "### Below are a few examples of evaluating arithmetic expressions in Python"
   ]
  },
  {
   "cell_type": "code",
   "execution_count": 20,
   "id": "a0701bef-e61b-4fdd-9d28-10e1c8820ba2",
   "metadata": {},
   "outputs": [],
   "source": [
    "# this is a simple expression to multiply then add\n"
   ]
  },
  {
   "cell_type": "code",
   "execution_count": 30,
   "id": "006a0c1d-d50e-4bcc-aabb-14901bbcb67b",
   "metadata": {},
   "outputs": [
    {
     "data": {
      "text/plain": [
       "17"
      ]
     },
     "execution_count": 30,
     "metadata": {},
     "output_type": "execute_result"
    }
   ],
   "source": [
    "(3*4)+5"
   ]
  },
  {
   "cell_type": "code",
   "execution_count": 32,
   "id": "b9ef5a53-76b7-4976-8ae7-f276986b1e93",
   "metadata": {},
   "outputs": [],
   "source": [
    "# This will convert 200 minutes to hours by dividing by 60"
   ]
  },
  {
   "cell_type": "code",
   "execution_count": 34,
   "id": "c9054c0b-ab13-4b7f-9f35-8c2fcfeeea6b",
   "metadata": {},
   "outputs": [
    {
     "data": {
      "text/plain": [
       "3.3333333333333335"
      ]
     },
     "execution_count": 34,
     "metadata": {},
     "output_type": "execute_result"
    }
   ],
   "source": [
    "200 / 60"
   ]
  },
  {
   "cell_type": "markdown",
   "id": "4ffbdc34-c137-402b-9303-01fd51314fbd",
   "metadata": {},
   "source": [
    "**Objectives:**"
   ]
  },
  {
   "cell_type": "markdown",
   "id": "b39790a7-232a-49e0-9ef1-bdb81b64f562",
   "metadata": {},
   "source": [
    "* list popular languages used in Data Science\n",
    "* Commonly used libraries in Data Science\n",
    "* Table of Data Science Tools"
   ]
  },
  {
   "cell_type": "markdown",
   "id": "1ea85d0d-48cb-4fd0-9e93-4de43b9c4352",
   "metadata": {},
   "source": [
    "## Author\n",
    "Brent\n"
   ]
  },
  {
   "cell_type": "code",
   "execution_count": null,
   "id": "d4593c52-eecc-4fb4-9d05-77e00f06a1e7",
   "metadata": {},
   "outputs": [],
   "source": []
  }
 ],
 "metadata": {
  "kernelspec": {
   "display_name": "anaconda-panel-2023.05-py310",
   "language": "python",
   "name": "conda-env-anaconda-panel-2023.05-py310-py"
  },
  "language_info": {
   "codemirror_mode": {
    "name": "ipython",
    "version": 3
   },
   "file_extension": ".py",
   "mimetype": "text/x-python",
   "name": "python",
   "nbconvert_exporter": "python",
   "pygments_lexer": "ipython3",
   "version": "3.11.5"
  }
 },
 "nbformat": 4,
 "nbformat_minor": 5
}

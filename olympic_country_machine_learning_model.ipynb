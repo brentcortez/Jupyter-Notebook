{
 "cells": [
  {
   "cell_type": "code",
   "execution_count": 2,
   "id": "10f34bbb-8ffe-400b-8029-a1859b308ae0",
   "metadata": {},
   "outputs": [
    {
     "name": "stdout",
     "output_type": "stream",
     "text": [
      "Defaulting to user installation because normal site-packages is not writeable\n",
      "Looking in links: /usr/share/pip-wheels\n",
      "Requirement already satisfied: pandas in /opt/conda/envs/anaconda-panel-2023.05-py310/lib/python3.11/site-packages (2.0.3)\n",
      "Requirement already satisfied: python-dateutil>=2.8.2 in /opt/conda/envs/anaconda-panel-2023.05-py310/lib/python3.11/site-packages (from pandas) (2.8.2)\n",
      "Requirement already satisfied: pytz>=2020.1 in /opt/conda/envs/anaconda-panel-2023.05-py310/lib/python3.11/site-packages (from pandas) (2023.3.post1)\n",
      "Requirement already satisfied: tzdata>=2022.1 in /opt/conda/envs/anaconda-panel-2023.05-py310/lib/python3.11/site-packages (from pandas) (2023.3)\n",
      "Requirement already satisfied: numpy>=1.21.0 in /opt/conda/envs/anaconda-panel-2023.05-py310/lib/python3.11/site-packages (from pandas) (1.24.3)\n",
      "Requirement already satisfied: six>=1.5 in /opt/conda/envs/anaconda-panel-2023.05-py310/lib/python3.11/site-packages (from python-dateutil>=2.8.2->pandas) (1.16.0)\n"
     ]
    }
   ],
   "source": [
    "!pip install pandas"
   ]
  },
  {
   "cell_type": "code",
   "execution_count": 62,
   "id": "2ee2bb67-4fc0-48fc-8784-87a4aae30f3f",
   "metadata": {},
   "outputs": [],
   "source": [
    "import pandas as pd"
   ]
  },
  {
   "cell_type": "code",
   "execution_count": 88,
   "id": "af60054c-4aa0-4f74-ad6a-34b9e63505c1",
   "metadata": {},
   "outputs": [],
   "source": [
    "teams = pd.read_csv(\"teams.csv\")"
   ]
  },
  {
   "cell_type": "code",
   "execution_count": 90,
   "id": "c8f3a83b-6f31-4174-8df9-64d963198037",
   "metadata": {},
   "outputs": [
    {
     "data": {
      "text/html": [
       "<div>\n",
       "<style scoped>\n",
       "    .dataframe tbody tr th:only-of-type {\n",
       "        vertical-align: middle;\n",
       "    }\n",
       "\n",
       "    .dataframe tbody tr th {\n",
       "        vertical-align: top;\n",
       "    }\n",
       "\n",
       "    .dataframe thead th {\n",
       "        text-align: right;\n",
       "    }\n",
       "</style>\n",
       "<table border=\"1\" class=\"dataframe\">\n",
       "  <thead>\n",
       "    <tr style=\"text-align: right;\">\n",
       "      <th></th>\n",
       "      <th>team</th>\n",
       "      <th>country</th>\n",
       "      <th>year</th>\n",
       "      <th>events</th>\n",
       "      <th>athletes</th>\n",
       "      <th>age</th>\n",
       "      <th>height</th>\n",
       "      <th>weight</th>\n",
       "      <th>medals</th>\n",
       "      <th>prev_medals</th>\n",
       "      <th>prev_3_medals</th>\n",
       "    </tr>\n",
       "  </thead>\n",
       "  <tbody>\n",
       "    <tr>\n",
       "      <th>0</th>\n",
       "      <td>AFG</td>\n",
       "      <td>Afghanistan</td>\n",
       "      <td>1964</td>\n",
       "      <td>8</td>\n",
       "      <td>8</td>\n",
       "      <td>22.0</td>\n",
       "      <td>161.0</td>\n",
       "      <td>64.2</td>\n",
       "      <td>0</td>\n",
       "      <td>0.0</td>\n",
       "      <td>0.0</td>\n",
       "    </tr>\n",
       "    <tr>\n",
       "      <th>1</th>\n",
       "      <td>AFG</td>\n",
       "      <td>Afghanistan</td>\n",
       "      <td>1968</td>\n",
       "      <td>5</td>\n",
       "      <td>5</td>\n",
       "      <td>23.2</td>\n",
       "      <td>170.2</td>\n",
       "      <td>70.0</td>\n",
       "      <td>0</td>\n",
       "      <td>0.0</td>\n",
       "      <td>0.0</td>\n",
       "    </tr>\n",
       "    <tr>\n",
       "      <th>2</th>\n",
       "      <td>AFG</td>\n",
       "      <td>Afghanistan</td>\n",
       "      <td>1972</td>\n",
       "      <td>8</td>\n",
       "      <td>8</td>\n",
       "      <td>29.0</td>\n",
       "      <td>168.3</td>\n",
       "      <td>63.8</td>\n",
       "      <td>0</td>\n",
       "      <td>0.0</td>\n",
       "      <td>0.0</td>\n",
       "    </tr>\n",
       "    <tr>\n",
       "      <th>3</th>\n",
       "      <td>AFG</td>\n",
       "      <td>Afghanistan</td>\n",
       "      <td>1980</td>\n",
       "      <td>11</td>\n",
       "      <td>11</td>\n",
       "      <td>23.6</td>\n",
       "      <td>168.4</td>\n",
       "      <td>63.2</td>\n",
       "      <td>0</td>\n",
       "      <td>0.0</td>\n",
       "      <td>0.0</td>\n",
       "    </tr>\n",
       "    <tr>\n",
       "      <th>4</th>\n",
       "      <td>AFG</td>\n",
       "      <td>Afghanistan</td>\n",
       "      <td>2004</td>\n",
       "      <td>5</td>\n",
       "      <td>5</td>\n",
       "      <td>18.6</td>\n",
       "      <td>170.8</td>\n",
       "      <td>64.8</td>\n",
       "      <td>0</td>\n",
       "      <td>0.0</td>\n",
       "      <td>0.0</td>\n",
       "    </tr>\n",
       "    <tr>\n",
       "      <th>...</th>\n",
       "      <td>...</td>\n",
       "      <td>...</td>\n",
       "      <td>...</td>\n",
       "      <td>...</td>\n",
       "      <td>...</td>\n",
       "      <td>...</td>\n",
       "      <td>...</td>\n",
       "      <td>...</td>\n",
       "      <td>...</td>\n",
       "      <td>...</td>\n",
       "      <td>...</td>\n",
       "    </tr>\n",
       "    <tr>\n",
       "      <th>2139</th>\n",
       "      <td>ZIM</td>\n",
       "      <td>Zimbabwe</td>\n",
       "      <td>2000</td>\n",
       "      <td>19</td>\n",
       "      <td>26</td>\n",
       "      <td>25.0</td>\n",
       "      <td>179.0</td>\n",
       "      <td>71.1</td>\n",
       "      <td>0</td>\n",
       "      <td>0.0</td>\n",
       "      <td>0.0</td>\n",
       "    </tr>\n",
       "    <tr>\n",
       "      <th>2140</th>\n",
       "      <td>ZIM</td>\n",
       "      <td>Zimbabwe</td>\n",
       "      <td>2004</td>\n",
       "      <td>11</td>\n",
       "      <td>14</td>\n",
       "      <td>25.1</td>\n",
       "      <td>177.8</td>\n",
       "      <td>70.5</td>\n",
       "      <td>3</td>\n",
       "      <td>0.0</td>\n",
       "      <td>0.0</td>\n",
       "    </tr>\n",
       "    <tr>\n",
       "      <th>2141</th>\n",
       "      <td>ZIM</td>\n",
       "      <td>Zimbabwe</td>\n",
       "      <td>2008</td>\n",
       "      <td>15</td>\n",
       "      <td>16</td>\n",
       "      <td>26.1</td>\n",
       "      <td>171.9</td>\n",
       "      <td>63.7</td>\n",
       "      <td>4</td>\n",
       "      <td>3.0</td>\n",
       "      <td>1.0</td>\n",
       "    </tr>\n",
       "    <tr>\n",
       "      <th>2142</th>\n",
       "      <td>ZIM</td>\n",
       "      <td>Zimbabwe</td>\n",
       "      <td>2012</td>\n",
       "      <td>8</td>\n",
       "      <td>9</td>\n",
       "      <td>27.3</td>\n",
       "      <td>174.4</td>\n",
       "      <td>65.2</td>\n",
       "      <td>0</td>\n",
       "      <td>4.0</td>\n",
       "      <td>2.3</td>\n",
       "    </tr>\n",
       "    <tr>\n",
       "      <th>2143</th>\n",
       "      <td>ZIM</td>\n",
       "      <td>Zimbabwe</td>\n",
       "      <td>2016</td>\n",
       "      <td>13</td>\n",
       "      <td>31</td>\n",
       "      <td>27.5</td>\n",
       "      <td>167.8</td>\n",
       "      <td>62.2</td>\n",
       "      <td>0</td>\n",
       "      <td>0.0</td>\n",
       "      <td>2.3</td>\n",
       "    </tr>\n",
       "  </tbody>\n",
       "</table>\n",
       "<p>2144 rows × 11 columns</p>\n",
       "</div>"
      ],
      "text/plain": [
       "     team      country  year  events  athletes   age  height  weight  medals  \\\n",
       "0     AFG  Afghanistan  1964       8         8  22.0   161.0    64.2       0   \n",
       "1     AFG  Afghanistan  1968       5         5  23.2   170.2    70.0       0   \n",
       "2     AFG  Afghanistan  1972       8         8  29.0   168.3    63.8       0   \n",
       "3     AFG  Afghanistan  1980      11        11  23.6   168.4    63.2       0   \n",
       "4     AFG  Afghanistan  2004       5         5  18.6   170.8    64.8       0   \n",
       "...   ...          ...   ...     ...       ...   ...     ...     ...     ...   \n",
       "2139  ZIM     Zimbabwe  2000      19        26  25.0   179.0    71.1       0   \n",
       "2140  ZIM     Zimbabwe  2004      11        14  25.1   177.8    70.5       3   \n",
       "2141  ZIM     Zimbabwe  2008      15        16  26.1   171.9    63.7       4   \n",
       "2142  ZIM     Zimbabwe  2012       8         9  27.3   174.4    65.2       0   \n",
       "2143  ZIM     Zimbabwe  2016      13        31  27.5   167.8    62.2       0   \n",
       "\n",
       "      prev_medals  prev_3_medals  \n",
       "0             0.0            0.0  \n",
       "1             0.0            0.0  \n",
       "2             0.0            0.0  \n",
       "3             0.0            0.0  \n",
       "4             0.0            0.0  \n",
       "...           ...            ...  \n",
       "2139          0.0            0.0  \n",
       "2140          0.0            0.0  \n",
       "2141          3.0            1.0  \n",
       "2142          4.0            2.3  \n",
       "2143          0.0            2.3  \n",
       "\n",
       "[2144 rows x 11 columns]"
      ]
     },
     "execution_count": 90,
     "metadata": {},
     "output_type": "execute_result"
    }
   ],
   "source": [
    "teams"
   ]
  },
  {
   "cell_type": "code",
   "execution_count": 92,
   "id": "e3b67512-658b-4281-8bc2-096f37c150b9",
   "metadata": {},
   "outputs": [],
   "source": [
    "teams = teams[[\"team\", \"country\", \"year\", \"athletes\", \"age\", \"prev_medals\", \"medals\"]]"
   ]
  },
  {
   "cell_type": "code",
   "execution_count": 94,
   "id": "1a95ddfb-27d0-4b5b-acf9-e5c52f22d928",
   "metadata": {},
   "outputs": [
    {
     "data": {
      "text/html": [
       "<div>\n",
       "<style scoped>\n",
       "    .dataframe tbody tr th:only-of-type {\n",
       "        vertical-align: middle;\n",
       "    }\n",
       "\n",
       "    .dataframe tbody tr th {\n",
       "        vertical-align: top;\n",
       "    }\n",
       "\n",
       "    .dataframe thead th {\n",
       "        text-align: right;\n",
       "    }\n",
       "</style>\n",
       "<table border=\"1\" class=\"dataframe\">\n",
       "  <thead>\n",
       "    <tr style=\"text-align: right;\">\n",
       "      <th></th>\n",
       "      <th>team</th>\n",
       "      <th>country</th>\n",
       "      <th>year</th>\n",
       "      <th>athletes</th>\n",
       "      <th>age</th>\n",
       "      <th>prev_medals</th>\n",
       "      <th>medals</th>\n",
       "    </tr>\n",
       "  </thead>\n",
       "  <tbody>\n",
       "    <tr>\n",
       "      <th>0</th>\n",
       "      <td>AFG</td>\n",
       "      <td>Afghanistan</td>\n",
       "      <td>1964</td>\n",
       "      <td>8</td>\n",
       "      <td>22.0</td>\n",
       "      <td>0.0</td>\n",
       "      <td>0</td>\n",
       "    </tr>\n",
       "    <tr>\n",
       "      <th>1</th>\n",
       "      <td>AFG</td>\n",
       "      <td>Afghanistan</td>\n",
       "      <td>1968</td>\n",
       "      <td>5</td>\n",
       "      <td>23.2</td>\n",
       "      <td>0.0</td>\n",
       "      <td>0</td>\n",
       "    </tr>\n",
       "    <tr>\n",
       "      <th>2</th>\n",
       "      <td>AFG</td>\n",
       "      <td>Afghanistan</td>\n",
       "      <td>1972</td>\n",
       "      <td>8</td>\n",
       "      <td>29.0</td>\n",
       "      <td>0.0</td>\n",
       "      <td>0</td>\n",
       "    </tr>\n",
       "    <tr>\n",
       "      <th>3</th>\n",
       "      <td>AFG</td>\n",
       "      <td>Afghanistan</td>\n",
       "      <td>1980</td>\n",
       "      <td>11</td>\n",
       "      <td>23.6</td>\n",
       "      <td>0.0</td>\n",
       "      <td>0</td>\n",
       "    </tr>\n",
       "    <tr>\n",
       "      <th>4</th>\n",
       "      <td>AFG</td>\n",
       "      <td>Afghanistan</td>\n",
       "      <td>2004</td>\n",
       "      <td>5</td>\n",
       "      <td>18.6</td>\n",
       "      <td>0.0</td>\n",
       "      <td>0</td>\n",
       "    </tr>\n",
       "    <tr>\n",
       "      <th>...</th>\n",
       "      <td>...</td>\n",
       "      <td>...</td>\n",
       "      <td>...</td>\n",
       "      <td>...</td>\n",
       "      <td>...</td>\n",
       "      <td>...</td>\n",
       "      <td>...</td>\n",
       "    </tr>\n",
       "    <tr>\n",
       "      <th>2139</th>\n",
       "      <td>ZIM</td>\n",
       "      <td>Zimbabwe</td>\n",
       "      <td>2000</td>\n",
       "      <td>26</td>\n",
       "      <td>25.0</td>\n",
       "      <td>0.0</td>\n",
       "      <td>0</td>\n",
       "    </tr>\n",
       "    <tr>\n",
       "      <th>2140</th>\n",
       "      <td>ZIM</td>\n",
       "      <td>Zimbabwe</td>\n",
       "      <td>2004</td>\n",
       "      <td>14</td>\n",
       "      <td>25.1</td>\n",
       "      <td>0.0</td>\n",
       "      <td>3</td>\n",
       "    </tr>\n",
       "    <tr>\n",
       "      <th>2141</th>\n",
       "      <td>ZIM</td>\n",
       "      <td>Zimbabwe</td>\n",
       "      <td>2008</td>\n",
       "      <td>16</td>\n",
       "      <td>26.1</td>\n",
       "      <td>3.0</td>\n",
       "      <td>4</td>\n",
       "    </tr>\n",
       "    <tr>\n",
       "      <th>2142</th>\n",
       "      <td>ZIM</td>\n",
       "      <td>Zimbabwe</td>\n",
       "      <td>2012</td>\n",
       "      <td>9</td>\n",
       "      <td>27.3</td>\n",
       "      <td>4.0</td>\n",
       "      <td>0</td>\n",
       "    </tr>\n",
       "    <tr>\n",
       "      <th>2143</th>\n",
       "      <td>ZIM</td>\n",
       "      <td>Zimbabwe</td>\n",
       "      <td>2016</td>\n",
       "      <td>31</td>\n",
       "      <td>27.5</td>\n",
       "      <td>0.0</td>\n",
       "      <td>0</td>\n",
       "    </tr>\n",
       "  </tbody>\n",
       "</table>\n",
       "<p>2144 rows × 7 columns</p>\n",
       "</div>"
      ],
      "text/plain": [
       "     team      country  year  athletes   age  prev_medals  medals\n",
       "0     AFG  Afghanistan  1964         8  22.0          0.0       0\n",
       "1     AFG  Afghanistan  1968         5  23.2          0.0       0\n",
       "2     AFG  Afghanistan  1972         8  29.0          0.0       0\n",
       "3     AFG  Afghanistan  1980        11  23.6          0.0       0\n",
       "4     AFG  Afghanistan  2004         5  18.6          0.0       0\n",
       "...   ...          ...   ...       ...   ...          ...     ...\n",
       "2139  ZIM     Zimbabwe  2000        26  25.0          0.0       0\n",
       "2140  ZIM     Zimbabwe  2004        14  25.1          0.0       3\n",
       "2141  ZIM     Zimbabwe  2008        16  26.1          3.0       4\n",
       "2142  ZIM     Zimbabwe  2012         9  27.3          4.0       0\n",
       "2143  ZIM     Zimbabwe  2016        31  27.5          0.0       0\n",
       "\n",
       "[2144 rows x 7 columns]"
      ]
     },
     "execution_count": 94,
     "metadata": {},
     "output_type": "execute_result"
    }
   ],
   "source": [
    "teams"
   ]
  },
  {
   "cell_type": "code",
   "execution_count": 108,
   "id": "03b2a2a0-5cc9-4226-ae83-3427ee0217dd",
   "metadata": {},
   "outputs": [
    {
     "data": {
      "text/plain": [
       "year          -0.021603\n",
       "athletes       0.840817\n",
       "age            0.025096\n",
       "prev_medals    0.920048\n",
       "medals         1.000000\n",
       "Name: medals, dtype: float64"
      ]
     },
     "execution_count": 108,
     "metadata": {},
     "output_type": "execute_result"
    }
   ],
   "source": [
    "teams.corr(numeric_only = True)[\"medals\"]"
   ]
  },
  {
   "cell_type": "code",
   "execution_count": 114,
   "id": "214ed364-b0c2-4977-9af4-b1ed9243db98",
   "metadata": {},
   "outputs": [],
   "source": [
    "import seaborn as sns"
   ]
  },
  {
   "cell_type": "code",
   "execution_count": 112,
   "id": "b42f408e-b0ae-45f8-b0cc-d775a55b3e29",
   "metadata": {},
   "outputs": [
    {
     "name": "stderr",
     "output_type": "stream",
     "text": [
      "/opt/conda/envs/anaconda-panel-2023.05-py310/lib/python3.11/site-packages/seaborn/axisgrid.py:118: UserWarning: The figure layout has changed to tight\n",
      "  self._figure.tight_layout(*args, **kwargs)\n"
     ]
    },
    {
     "data": {
      "text/plain": [
       "<seaborn.axisgrid.FacetGrid at 0x7f8213c09cd0>"
      ]
     },
     "execution_count": 112,
     "metadata": {},
     "output_type": "execute_result"
    },
    {
     "data": {
      "image/png": "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",
      "text/plain": [
       "<Figure size 500x500 with 1 Axes>"
      ]
     },
     "metadata": {},
     "output_type": "display_data"
    }
   ],
   "source": [
    "sns.lmplot(x=\"athletes\", y=\"medals\", data=teams, fit_reg=True, ci=None)"
   ]
  },
  {
   "cell_type": "code",
   "execution_count": 116,
   "id": "c1904c72-ccb0-48e8-8858-72da76cfdc61",
   "metadata": {},
   "outputs": [
    {
     "data": {
      "text/plain": [
       "<Axes: ylabel='Frequency'>"
      ]
     },
     "execution_count": 116,
     "metadata": {},
     "output_type": "execute_result"
    },
    {
     "data": {
      "image/png": "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",
      "text/plain": [
       "<Figure size 640x480 with 1 Axes>"
      ]
     },
     "metadata": {},
     "output_type": "display_data"
    }
   ],
   "source": [
    "teams.plot.hist(y=\"medals\")"
   ]
  },
  {
   "cell_type": "code",
   "execution_count": 120,
   "id": "32b756f3-9f71-44a4-9fd5-3ec5648fd1e1",
   "metadata": {},
   "outputs": [
    {
     "data": {
      "text/html": [
       "<div>\n",
       "<style scoped>\n",
       "    .dataframe tbody tr th:only-of-type {\n",
       "        vertical-align: middle;\n",
       "    }\n",
       "\n",
       "    .dataframe tbody tr th {\n",
       "        vertical-align: top;\n",
       "    }\n",
       "\n",
       "    .dataframe thead th {\n",
       "        text-align: right;\n",
       "    }\n",
       "</style>\n",
       "<table border=\"1\" class=\"dataframe\">\n",
       "  <thead>\n",
       "    <tr style=\"text-align: right;\">\n",
       "      <th></th>\n",
       "      <th>team</th>\n",
       "      <th>country</th>\n",
       "      <th>year</th>\n",
       "      <th>athletes</th>\n",
       "      <th>age</th>\n",
       "      <th>prev_medals</th>\n",
       "      <th>medals</th>\n",
       "    </tr>\n",
       "  </thead>\n",
       "  <tbody>\n",
       "    <tr>\n",
       "      <th>19</th>\n",
       "      <td>ALB</td>\n",
       "      <td>Albania</td>\n",
       "      <td>1992</td>\n",
       "      <td>9</td>\n",
       "      <td>25.3</td>\n",
       "      <td>NaN</td>\n",
       "      <td>0</td>\n",
       "    </tr>\n",
       "    <tr>\n",
       "      <th>26</th>\n",
       "      <td>ALG</td>\n",
       "      <td>Algeria</td>\n",
       "      <td>1964</td>\n",
       "      <td>7</td>\n",
       "      <td>26.0</td>\n",
       "      <td>NaN</td>\n",
       "      <td>0</td>\n",
       "    </tr>\n",
       "    <tr>\n",
       "      <th>39</th>\n",
       "      <td>AND</td>\n",
       "      <td>Andorra</td>\n",
       "      <td>1976</td>\n",
       "      <td>3</td>\n",
       "      <td>28.3</td>\n",
       "      <td>NaN</td>\n",
       "      <td>0</td>\n",
       "    </tr>\n",
       "    <tr>\n",
       "      <th>50</th>\n",
       "      <td>ANG</td>\n",
       "      <td>Angola</td>\n",
       "      <td>1980</td>\n",
       "      <td>17</td>\n",
       "      <td>17.4</td>\n",
       "      <td>NaN</td>\n",
       "      <td>0</td>\n",
       "    </tr>\n",
       "    <tr>\n",
       "      <th>59</th>\n",
       "      <td>ANT</td>\n",
       "      <td>Antigua and Barbuda</td>\n",
       "      <td>1976</td>\n",
       "      <td>17</td>\n",
       "      <td>23.2</td>\n",
       "      <td>NaN</td>\n",
       "      <td>0</td>\n",
       "    </tr>\n",
       "    <tr>\n",
       "      <th>...</th>\n",
       "      <td>...</td>\n",
       "      <td>...</td>\n",
       "      <td>...</td>\n",
       "      <td>...</td>\n",
       "      <td>...</td>\n",
       "      <td>...</td>\n",
       "      <td>...</td>\n",
       "    </tr>\n",
       "    <tr>\n",
       "      <th>2092</th>\n",
       "      <td>VIN</td>\n",
       "      <td>Saint Vincent and the Grenadines</td>\n",
       "      <td>1988</td>\n",
       "      <td>6</td>\n",
       "      <td>20.5</td>\n",
       "      <td>NaN</td>\n",
       "      <td>0</td>\n",
       "    </tr>\n",
       "    <tr>\n",
       "      <th>2103</th>\n",
       "      <td>YAR</td>\n",
       "      <td>North Yemen</td>\n",
       "      <td>1984</td>\n",
       "      <td>3</td>\n",
       "      <td>27.7</td>\n",
       "      <td>NaN</td>\n",
       "      <td>0</td>\n",
       "    </tr>\n",
       "    <tr>\n",
       "      <th>2105</th>\n",
       "      <td>YEM</td>\n",
       "      <td>Yemen</td>\n",
       "      <td>1992</td>\n",
       "      <td>8</td>\n",
       "      <td>19.6</td>\n",
       "      <td>NaN</td>\n",
       "      <td>0</td>\n",
       "    </tr>\n",
       "    <tr>\n",
       "      <th>2112</th>\n",
       "      <td>YMD</td>\n",
       "      <td>South Yemen</td>\n",
       "      <td>1988</td>\n",
       "      <td>5</td>\n",
       "      <td>23.6</td>\n",
       "      <td>NaN</td>\n",
       "      <td>0</td>\n",
       "    </tr>\n",
       "    <tr>\n",
       "      <th>2120</th>\n",
       "      <td>ZAM</td>\n",
       "      <td>Zambia</td>\n",
       "      <td>1964</td>\n",
       "      <td>15</td>\n",
       "      <td>21.7</td>\n",
       "      <td>NaN</td>\n",
       "      <td>0</td>\n",
       "    </tr>\n",
       "  </tbody>\n",
       "</table>\n",
       "<p>130 rows × 7 columns</p>\n",
       "</div>"
      ],
      "text/plain": [
       "     team                           country  year  athletes   age  \\\n",
       "19    ALB                           Albania  1992         9  25.3   \n",
       "26    ALG                           Algeria  1964         7  26.0   \n",
       "39    AND                           Andorra  1976         3  28.3   \n",
       "50    ANG                            Angola  1980        17  17.4   \n",
       "59    ANT               Antigua and Barbuda  1976        17  23.2   \n",
       "...   ...                               ...   ...       ...   ...   \n",
       "2092  VIN  Saint Vincent and the Grenadines  1988         6  20.5   \n",
       "2103  YAR                       North Yemen  1984         3  27.7   \n",
       "2105  YEM                             Yemen  1992         8  19.6   \n",
       "2112  YMD                       South Yemen  1988         5  23.6   \n",
       "2120  ZAM                            Zambia  1964        15  21.7   \n",
       "\n",
       "      prev_medals  medals  \n",
       "19            NaN       0  \n",
       "26            NaN       0  \n",
       "39            NaN       0  \n",
       "50            NaN       0  \n",
       "59            NaN       0  \n",
       "...           ...     ...  \n",
       "2092          NaN       0  \n",
       "2103          NaN       0  \n",
       "2105          NaN       0  \n",
       "2112          NaN       0  \n",
       "2120          NaN       0  \n",
       "\n",
       "[130 rows x 7 columns]"
      ]
     },
     "execution_count": 120,
     "metadata": {},
     "output_type": "execute_result"
    }
   ],
   "source": [
    "teams[teams.isnull().any(axis=1)]"
   ]
  },
  {
   "cell_type": "code",
   "execution_count": 122,
   "id": "8e337382-1f54-4eed-b99a-6557cf7f3eb0",
   "metadata": {},
   "outputs": [],
   "source": [
    "teams = teams.dropna()"
   ]
  },
  {
   "cell_type": "code",
   "execution_count": 124,
   "id": "e77f32f4-ab2c-456f-b532-5b4316cd2cc2",
   "metadata": {},
   "outputs": [
    {
     "data": {
      "text/html": [
       "<div>\n",
       "<style scoped>\n",
       "    .dataframe tbody tr th:only-of-type {\n",
       "        vertical-align: middle;\n",
       "    }\n",
       "\n",
       "    .dataframe tbody tr th {\n",
       "        vertical-align: top;\n",
       "    }\n",
       "\n",
       "    .dataframe thead th {\n",
       "        text-align: right;\n",
       "    }\n",
       "</style>\n",
       "<table border=\"1\" class=\"dataframe\">\n",
       "  <thead>\n",
       "    <tr style=\"text-align: right;\">\n",
       "      <th></th>\n",
       "      <th>team</th>\n",
       "      <th>country</th>\n",
       "      <th>year</th>\n",
       "      <th>athletes</th>\n",
       "      <th>age</th>\n",
       "      <th>prev_medals</th>\n",
       "      <th>medals</th>\n",
       "    </tr>\n",
       "  </thead>\n",
       "  <tbody>\n",
       "    <tr>\n",
       "      <th>0</th>\n",
       "      <td>AFG</td>\n",
       "      <td>Afghanistan</td>\n",
       "      <td>1964</td>\n",
       "      <td>8</td>\n",
       "      <td>22.0</td>\n",
       "      <td>0.0</td>\n",
       "      <td>0</td>\n",
       "    </tr>\n",
       "    <tr>\n",
       "      <th>1</th>\n",
       "      <td>AFG</td>\n",
       "      <td>Afghanistan</td>\n",
       "      <td>1968</td>\n",
       "      <td>5</td>\n",
       "      <td>23.2</td>\n",
       "      <td>0.0</td>\n",
       "      <td>0</td>\n",
       "    </tr>\n",
       "    <tr>\n",
       "      <th>2</th>\n",
       "      <td>AFG</td>\n",
       "      <td>Afghanistan</td>\n",
       "      <td>1972</td>\n",
       "      <td>8</td>\n",
       "      <td>29.0</td>\n",
       "      <td>0.0</td>\n",
       "      <td>0</td>\n",
       "    </tr>\n",
       "    <tr>\n",
       "      <th>3</th>\n",
       "      <td>AFG</td>\n",
       "      <td>Afghanistan</td>\n",
       "      <td>1980</td>\n",
       "      <td>11</td>\n",
       "      <td>23.6</td>\n",
       "      <td>0.0</td>\n",
       "      <td>0</td>\n",
       "    </tr>\n",
       "    <tr>\n",
       "      <th>4</th>\n",
       "      <td>AFG</td>\n",
       "      <td>Afghanistan</td>\n",
       "      <td>2004</td>\n",
       "      <td>5</td>\n",
       "      <td>18.6</td>\n",
       "      <td>0.0</td>\n",
       "      <td>0</td>\n",
       "    </tr>\n",
       "    <tr>\n",
       "      <th>...</th>\n",
       "      <td>...</td>\n",
       "      <td>...</td>\n",
       "      <td>...</td>\n",
       "      <td>...</td>\n",
       "      <td>...</td>\n",
       "      <td>...</td>\n",
       "      <td>...</td>\n",
       "    </tr>\n",
       "    <tr>\n",
       "      <th>2139</th>\n",
       "      <td>ZIM</td>\n",
       "      <td>Zimbabwe</td>\n",
       "      <td>2000</td>\n",
       "      <td>26</td>\n",
       "      <td>25.0</td>\n",
       "      <td>0.0</td>\n",
       "      <td>0</td>\n",
       "    </tr>\n",
       "    <tr>\n",
       "      <th>2140</th>\n",
       "      <td>ZIM</td>\n",
       "      <td>Zimbabwe</td>\n",
       "      <td>2004</td>\n",
       "      <td>14</td>\n",
       "      <td>25.1</td>\n",
       "      <td>0.0</td>\n",
       "      <td>3</td>\n",
       "    </tr>\n",
       "    <tr>\n",
       "      <th>2141</th>\n",
       "      <td>ZIM</td>\n",
       "      <td>Zimbabwe</td>\n",
       "      <td>2008</td>\n",
       "      <td>16</td>\n",
       "      <td>26.1</td>\n",
       "      <td>3.0</td>\n",
       "      <td>4</td>\n",
       "    </tr>\n",
       "    <tr>\n",
       "      <th>2142</th>\n",
       "      <td>ZIM</td>\n",
       "      <td>Zimbabwe</td>\n",
       "      <td>2012</td>\n",
       "      <td>9</td>\n",
       "      <td>27.3</td>\n",
       "      <td>4.0</td>\n",
       "      <td>0</td>\n",
       "    </tr>\n",
       "    <tr>\n",
       "      <th>2143</th>\n",
       "      <td>ZIM</td>\n",
       "      <td>Zimbabwe</td>\n",
       "      <td>2016</td>\n",
       "      <td>31</td>\n",
       "      <td>27.5</td>\n",
       "      <td>0.0</td>\n",
       "      <td>0</td>\n",
       "    </tr>\n",
       "  </tbody>\n",
       "</table>\n",
       "<p>2014 rows × 7 columns</p>\n",
       "</div>"
      ],
      "text/plain": [
       "     team      country  year  athletes   age  prev_medals  medals\n",
       "0     AFG  Afghanistan  1964         8  22.0          0.0       0\n",
       "1     AFG  Afghanistan  1968         5  23.2          0.0       0\n",
       "2     AFG  Afghanistan  1972         8  29.0          0.0       0\n",
       "3     AFG  Afghanistan  1980        11  23.6          0.0       0\n",
       "4     AFG  Afghanistan  2004         5  18.6          0.0       0\n",
       "...   ...          ...   ...       ...   ...          ...     ...\n",
       "2139  ZIM     Zimbabwe  2000        26  25.0          0.0       0\n",
       "2140  ZIM     Zimbabwe  2004        14  25.1          0.0       3\n",
       "2141  ZIM     Zimbabwe  2008        16  26.1          3.0       4\n",
       "2142  ZIM     Zimbabwe  2012         9  27.3          4.0       0\n",
       "2143  ZIM     Zimbabwe  2016        31  27.5          0.0       0\n",
       "\n",
       "[2014 rows x 7 columns]"
      ]
     },
     "execution_count": 124,
     "metadata": {},
     "output_type": "execute_result"
    }
   ],
   "source": [
    "teams"
   ]
  },
  {
   "cell_type": "code",
   "execution_count": 126,
   "id": "96ee6888-ed41-4911-adcd-84e4243341ff",
   "metadata": {},
   "outputs": [],
   "source": [
    "train = teams[teams[\"year\"] < 2012].copy()\n",
    "test = teams[teams[\"year\"] >= 2012].copy()"
   ]
  },
  {
   "cell_type": "code",
   "execution_count": 128,
   "id": "97345f0f-82de-44f1-8b91-432f28f83059",
   "metadata": {},
   "outputs": [
    {
     "data": {
      "text/plain": [
       "(1609, 7)"
      ]
     },
     "execution_count": 128,
     "metadata": {},
     "output_type": "execute_result"
    }
   ],
   "source": [
    "train.shape"
   ]
  },
  {
   "cell_type": "code",
   "execution_count": 130,
   "id": "4beb3bb7-f558-48e5-878f-bd19c0b5250e",
   "metadata": {},
   "outputs": [
    {
     "data": {
      "text/plain": [
       "(405, 7)"
      ]
     },
     "execution_count": 130,
     "metadata": {},
     "output_type": "execute_result"
    }
   ],
   "source": [
    "test.shape"
   ]
  },
  {
   "cell_type": "code",
   "execution_count": 136,
   "id": "c748a91e-9e03-43ac-bde6-39c101692057",
   "metadata": {},
   "outputs": [],
   "source": [
    "from sklearn.linear_model import LinearRegression\n",
    "reg = LinearRegression()\n"
   ]
  },
  {
   "cell_type": "code",
   "execution_count": 138,
   "id": "8d8d20ad-35de-48ef-9d2d-9f256777d895",
   "metadata": {},
   "outputs": [],
   "source": [
    "predictors = [\"athletes\", \"prev_medals\"]\n",
    "target = \"medals\"\n",
    "    "
   ]
  },
  {
   "cell_type": "code",
   "execution_count": 140,
   "id": "7fcf7008-96dc-4ecd-80a8-69645622c31c",
   "metadata": {},
   "outputs": [
    {
     "data": {
      "text/html": [
       "<style>#sk-container-id-1 {color: black;}#sk-container-id-1 pre{padding: 0;}#sk-container-id-1 div.sk-toggleable {background-color: white;}#sk-container-id-1 label.sk-toggleable__label {cursor: pointer;display: block;width: 100%;margin-bottom: 0;padding: 0.3em;box-sizing: border-box;text-align: center;}#sk-container-id-1 label.sk-toggleable__label-arrow:before {content: \"▸\";float: left;margin-right: 0.25em;color: #696969;}#sk-container-id-1 label.sk-toggleable__label-arrow:hover:before {color: black;}#sk-container-id-1 div.sk-estimator:hover label.sk-toggleable__label-arrow:before {color: black;}#sk-container-id-1 div.sk-toggleable__content {max-height: 0;max-width: 0;overflow: hidden;text-align: left;background-color: #f0f8ff;}#sk-container-id-1 div.sk-toggleable__content pre {margin: 0.2em;color: black;border-radius: 0.25em;background-color: #f0f8ff;}#sk-container-id-1 input.sk-toggleable__control:checked~div.sk-toggleable__content {max-height: 200px;max-width: 100%;overflow: auto;}#sk-container-id-1 input.sk-toggleable__control:checked~label.sk-toggleable__label-arrow:before {content: \"▾\";}#sk-container-id-1 div.sk-estimator input.sk-toggleable__control:checked~label.sk-toggleable__label {background-color: #d4ebff;}#sk-container-id-1 div.sk-label input.sk-toggleable__control:checked~label.sk-toggleable__label {background-color: #d4ebff;}#sk-container-id-1 input.sk-hidden--visually {border: 0;clip: rect(1px 1px 1px 1px);clip: rect(1px, 1px, 1px, 1px);height: 1px;margin: -1px;overflow: hidden;padding: 0;position: absolute;width: 1px;}#sk-container-id-1 div.sk-estimator {font-family: monospace;background-color: #f0f8ff;border: 1px dotted black;border-radius: 0.25em;box-sizing: border-box;margin-bottom: 0.5em;}#sk-container-id-1 div.sk-estimator:hover {background-color: #d4ebff;}#sk-container-id-1 div.sk-parallel-item::after {content: \"\";width: 100%;border-bottom: 1px solid gray;flex-grow: 1;}#sk-container-id-1 div.sk-label:hover label.sk-toggleable__label {background-color: #d4ebff;}#sk-container-id-1 div.sk-serial::before {content: \"\";position: absolute;border-left: 1px solid gray;box-sizing: border-box;top: 0;bottom: 0;left: 50%;z-index: 0;}#sk-container-id-1 div.sk-serial {display: flex;flex-direction: column;align-items: center;background-color: white;padding-right: 0.2em;padding-left: 0.2em;position: relative;}#sk-container-id-1 div.sk-item {position: relative;z-index: 1;}#sk-container-id-1 div.sk-parallel {display: flex;align-items: stretch;justify-content: center;background-color: white;position: relative;}#sk-container-id-1 div.sk-item::before, #sk-container-id-1 div.sk-parallel-item::before {content: \"\";position: absolute;border-left: 1px solid gray;box-sizing: border-box;top: 0;bottom: 0;left: 50%;z-index: -1;}#sk-container-id-1 div.sk-parallel-item {display: flex;flex-direction: column;z-index: 1;position: relative;background-color: white;}#sk-container-id-1 div.sk-parallel-item:first-child::after {align-self: flex-end;width: 50%;}#sk-container-id-1 div.sk-parallel-item:last-child::after {align-self: flex-start;width: 50%;}#sk-container-id-1 div.sk-parallel-item:only-child::after {width: 0;}#sk-container-id-1 div.sk-dashed-wrapped {border: 1px dashed gray;margin: 0 0.4em 0.5em 0.4em;box-sizing: border-box;padding-bottom: 0.4em;background-color: white;}#sk-container-id-1 div.sk-label label {font-family: monospace;font-weight: bold;display: inline-block;line-height: 1.2em;}#sk-container-id-1 div.sk-label-container {text-align: center;}#sk-container-id-1 div.sk-container {/* jupyter's `normalize.less` sets `[hidden] { display: none; }` but bootstrap.min.css set `[hidden] { display: none !important; }` so we also need the `!important` here to be able to override the default hidden behavior on the sphinx rendered scikit-learn.org. See: https://github.com/scikit-learn/scikit-learn/issues/21755 */display: inline-block !important;position: relative;}#sk-container-id-1 div.sk-text-repr-fallback {display: none;}</style><div id=\"sk-container-id-1\" class=\"sk-top-container\"><div class=\"sk-text-repr-fallback\"><pre>LinearRegression()</pre><b>In a Jupyter environment, please rerun this cell to show the HTML representation or trust the notebook. <br />On GitHub, the HTML representation is unable to render, please try loading this page with nbviewer.org.</b></div><div class=\"sk-container\" hidden><div class=\"sk-item\"><div class=\"sk-estimator sk-toggleable\"><input class=\"sk-toggleable__control sk-hidden--visually\" id=\"sk-estimator-id-1\" type=\"checkbox\" checked><label for=\"sk-estimator-id-1\" class=\"sk-toggleable__label sk-toggleable__label-arrow\">LinearRegression</label><div class=\"sk-toggleable__content\"><pre>LinearRegression()</pre></div></div></div></div></div>"
      ],
      "text/plain": [
       "LinearRegression()"
      ]
     },
     "execution_count": 140,
     "metadata": {},
     "output_type": "execute_result"
    }
   ],
   "source": [
    "reg.fit(train[predictors], train[\"medals\"])"
   ]
  },
  {
   "cell_type": "code",
   "execution_count": 142,
   "id": "25564f6f-517e-430f-b7fc-c6dd5817ae59",
   "metadata": {},
   "outputs": [],
   "source": [
    "predictions = reg.predict(test[predictors])"
   ]
  },
  {
   "cell_type": "code",
   "execution_count": 168,
   "id": "d57685d6-92ad-41a3-9611-c7c03c4d5858",
   "metadata": {},
   "outputs": [],
   "source": [
    "test[\"predictions\"] = predictions"
   ]
  },
  {
   "cell_type": "code",
   "execution_count": 170,
   "id": "0817b4d0-2ea2-4f87-84ef-28d426a9a020",
   "metadata": {},
   "outputs": [
    {
     "data": {
      "text/html": [
       "<div>\n",
       "<style scoped>\n",
       "    .dataframe tbody tr th:only-of-type {\n",
       "        vertical-align: middle;\n",
       "    }\n",
       "\n",
       "    .dataframe tbody tr th {\n",
       "        vertical-align: top;\n",
       "    }\n",
       "\n",
       "    .dataframe thead th {\n",
       "        text-align: right;\n",
       "    }\n",
       "</style>\n",
       "<table border=\"1\" class=\"dataframe\">\n",
       "  <thead>\n",
       "    <tr style=\"text-align: right;\">\n",
       "      <th></th>\n",
       "      <th>team</th>\n",
       "      <th>country</th>\n",
       "      <th>year</th>\n",
       "      <th>athletes</th>\n",
       "      <th>age</th>\n",
       "      <th>prev_medals</th>\n",
       "      <th>medals</th>\n",
       "      <th>predictions</th>\n",
       "    </tr>\n",
       "  </thead>\n",
       "  <tbody>\n",
       "    <tr>\n",
       "      <th>6</th>\n",
       "      <td>AFG</td>\n",
       "      <td>Afghanistan</td>\n",
       "      <td>2012</td>\n",
       "      <td>6</td>\n",
       "      <td>24.8</td>\n",
       "      <td>1.0</td>\n",
       "      <td>1</td>\n",
       "      <td>-0.961221</td>\n",
       "    </tr>\n",
       "    <tr>\n",
       "      <th>7</th>\n",
       "      <td>AFG</td>\n",
       "      <td>Afghanistan</td>\n",
       "      <td>2016</td>\n",
       "      <td>3</td>\n",
       "      <td>24.7</td>\n",
       "      <td>1.0</td>\n",
       "      <td>0</td>\n",
       "      <td>-1.176333</td>\n",
       "    </tr>\n",
       "    <tr>\n",
       "      <th>24</th>\n",
       "      <td>ALB</td>\n",
       "      <td>Albania</td>\n",
       "      <td>2012</td>\n",
       "      <td>10</td>\n",
       "      <td>25.7</td>\n",
       "      <td>0.0</td>\n",
       "      <td>0</td>\n",
       "      <td>-1.425032</td>\n",
       "    </tr>\n",
       "    <tr>\n",
       "      <th>25</th>\n",
       "      <td>ALB</td>\n",
       "      <td>Albania</td>\n",
       "      <td>2016</td>\n",
       "      <td>6</td>\n",
       "      <td>23.7</td>\n",
       "      <td>0.0</td>\n",
       "      <td>0</td>\n",
       "      <td>-1.711847</td>\n",
       "    </tr>\n",
       "    <tr>\n",
       "      <th>37</th>\n",
       "      <td>ALG</td>\n",
       "      <td>Algeria</td>\n",
       "      <td>2012</td>\n",
       "      <td>39</td>\n",
       "      <td>24.8</td>\n",
       "      <td>2.0</td>\n",
       "      <td>1</td>\n",
       "      <td>2.155629</td>\n",
       "    </tr>\n",
       "    <tr>\n",
       "      <th>...</th>\n",
       "      <td>...</td>\n",
       "      <td>...</td>\n",
       "      <td>...</td>\n",
       "      <td>...</td>\n",
       "      <td>...</td>\n",
       "      <td>...</td>\n",
       "      <td>...</td>\n",
       "      <td>...</td>\n",
       "    </tr>\n",
       "    <tr>\n",
       "      <th>2111</th>\n",
       "      <td>YEM</td>\n",
       "      <td>Yemen</td>\n",
       "      <td>2016</td>\n",
       "      <td>3</td>\n",
       "      <td>19.3</td>\n",
       "      <td>0.0</td>\n",
       "      <td>0</td>\n",
       "      <td>-1.926958</td>\n",
       "    </tr>\n",
       "    <tr>\n",
       "      <th>2131</th>\n",
       "      <td>ZAM</td>\n",
       "      <td>Zambia</td>\n",
       "      <td>2012</td>\n",
       "      <td>7</td>\n",
       "      <td>22.6</td>\n",
       "      <td>0.0</td>\n",
       "      <td>0</td>\n",
       "      <td>-1.640143</td>\n",
       "    </tr>\n",
       "    <tr>\n",
       "      <th>2132</th>\n",
       "      <td>ZAM</td>\n",
       "      <td>Zambia</td>\n",
       "      <td>2016</td>\n",
       "      <td>7</td>\n",
       "      <td>24.1</td>\n",
       "      <td>0.0</td>\n",
       "      <td>0</td>\n",
       "      <td>-1.640143</td>\n",
       "    </tr>\n",
       "    <tr>\n",
       "      <th>2142</th>\n",
       "      <td>ZIM</td>\n",
       "      <td>Zimbabwe</td>\n",
       "      <td>2012</td>\n",
       "      <td>9</td>\n",
       "      <td>27.3</td>\n",
       "      <td>4.0</td>\n",
       "      <td>0</td>\n",
       "      <td>1.505767</td>\n",
       "    </tr>\n",
       "    <tr>\n",
       "      <th>2143</th>\n",
       "      <td>ZIM</td>\n",
       "      <td>Zimbabwe</td>\n",
       "      <td>2016</td>\n",
       "      <td>31</td>\n",
       "      <td>27.5</td>\n",
       "      <td>0.0</td>\n",
       "      <td>0</td>\n",
       "      <td>0.080748</td>\n",
       "    </tr>\n",
       "  </tbody>\n",
       "</table>\n",
       "<p>405 rows × 8 columns</p>\n",
       "</div>"
      ],
      "text/plain": [
       "     team      country  year  athletes   age  prev_medals  medals  predictions\n",
       "6     AFG  Afghanistan  2012         6  24.8          1.0       1    -0.961221\n",
       "7     AFG  Afghanistan  2016         3  24.7          1.0       0    -1.176333\n",
       "24    ALB      Albania  2012        10  25.7          0.0       0    -1.425032\n",
       "25    ALB      Albania  2016         6  23.7          0.0       0    -1.711847\n",
       "37    ALG      Algeria  2012        39  24.8          2.0       1     2.155629\n",
       "...   ...          ...   ...       ...   ...          ...     ...          ...\n",
       "2111  YEM        Yemen  2016         3  19.3          0.0       0    -1.926958\n",
       "2131  ZAM       Zambia  2012         7  22.6          0.0       0    -1.640143\n",
       "2132  ZAM       Zambia  2016         7  24.1          0.0       0    -1.640143\n",
       "2142  ZIM     Zimbabwe  2012         9  27.3          4.0       0     1.505767\n",
       "2143  ZIM     Zimbabwe  2016        31  27.5          0.0       0     0.080748\n",
       "\n",
       "[405 rows x 8 columns]"
      ]
     },
     "execution_count": 170,
     "metadata": {},
     "output_type": "execute_result"
    }
   ],
   "source": [
    "test"
   ]
  },
  {
   "cell_type": "code",
   "execution_count": 172,
   "id": "edbe13e8-fa14-45c9-b84c-2bc997c22699",
   "metadata": {},
   "outputs": [],
   "source": [
    "test.loc[test[\"predictions\"] < 0, \"predictions\"] = 0"
   ]
  },
  {
   "cell_type": "code",
   "execution_count": 174,
   "id": "e0de940a-0545-48ad-885b-14d1abe1a05d",
   "metadata": {},
   "outputs": [],
   "source": [
    "test[\"predictions\"] = test[\"predictions\"].round()"
   ]
  },
  {
   "cell_type": "code",
   "execution_count": 176,
   "id": "4447f3ac-1170-457f-bf6e-7295a06cc4f7",
   "metadata": {},
   "outputs": [
    {
     "data": {
      "text/html": [
       "<div>\n",
       "<style scoped>\n",
       "    .dataframe tbody tr th:only-of-type {\n",
       "        vertical-align: middle;\n",
       "    }\n",
       "\n",
       "    .dataframe tbody tr th {\n",
       "        vertical-align: top;\n",
       "    }\n",
       "\n",
       "    .dataframe thead th {\n",
       "        text-align: right;\n",
       "    }\n",
       "</style>\n",
       "<table border=\"1\" class=\"dataframe\">\n",
       "  <thead>\n",
       "    <tr style=\"text-align: right;\">\n",
       "      <th></th>\n",
       "      <th>team</th>\n",
       "      <th>country</th>\n",
       "      <th>year</th>\n",
       "      <th>athletes</th>\n",
       "      <th>age</th>\n",
       "      <th>prev_medals</th>\n",
       "      <th>medals</th>\n",
       "      <th>predictions</th>\n",
       "    </tr>\n",
       "  </thead>\n",
       "  <tbody>\n",
       "    <tr>\n",
       "      <th>6</th>\n",
       "      <td>AFG</td>\n",
       "      <td>Afghanistan</td>\n",
       "      <td>2012</td>\n",
       "      <td>6</td>\n",
       "      <td>24.8</td>\n",
       "      <td>1.0</td>\n",
       "      <td>1</td>\n",
       "      <td>0.0</td>\n",
       "    </tr>\n",
       "    <tr>\n",
       "      <th>7</th>\n",
       "      <td>AFG</td>\n",
       "      <td>Afghanistan</td>\n",
       "      <td>2016</td>\n",
       "      <td>3</td>\n",
       "      <td>24.7</td>\n",
       "      <td>1.0</td>\n",
       "      <td>0</td>\n",
       "      <td>0.0</td>\n",
       "    </tr>\n",
       "    <tr>\n",
       "      <th>24</th>\n",
       "      <td>ALB</td>\n",
       "      <td>Albania</td>\n",
       "      <td>2012</td>\n",
       "      <td>10</td>\n",
       "      <td>25.7</td>\n",
       "      <td>0.0</td>\n",
       "      <td>0</td>\n",
       "      <td>0.0</td>\n",
       "    </tr>\n",
       "    <tr>\n",
       "      <th>25</th>\n",
       "      <td>ALB</td>\n",
       "      <td>Albania</td>\n",
       "      <td>2016</td>\n",
       "      <td>6</td>\n",
       "      <td>23.7</td>\n",
       "      <td>0.0</td>\n",
       "      <td>0</td>\n",
       "      <td>0.0</td>\n",
       "    </tr>\n",
       "    <tr>\n",
       "      <th>37</th>\n",
       "      <td>ALG</td>\n",
       "      <td>Algeria</td>\n",
       "      <td>2012</td>\n",
       "      <td>39</td>\n",
       "      <td>24.8</td>\n",
       "      <td>2.0</td>\n",
       "      <td>1</td>\n",
       "      <td>2.0</td>\n",
       "    </tr>\n",
       "    <tr>\n",
       "      <th>...</th>\n",
       "      <td>...</td>\n",
       "      <td>...</td>\n",
       "      <td>...</td>\n",
       "      <td>...</td>\n",
       "      <td>...</td>\n",
       "      <td>...</td>\n",
       "      <td>...</td>\n",
       "      <td>...</td>\n",
       "    </tr>\n",
       "    <tr>\n",
       "      <th>2111</th>\n",
       "      <td>YEM</td>\n",
       "      <td>Yemen</td>\n",
       "      <td>2016</td>\n",
       "      <td>3</td>\n",
       "      <td>19.3</td>\n",
       "      <td>0.0</td>\n",
       "      <td>0</td>\n",
       "      <td>0.0</td>\n",
       "    </tr>\n",
       "    <tr>\n",
       "      <th>2131</th>\n",
       "      <td>ZAM</td>\n",
       "      <td>Zambia</td>\n",
       "      <td>2012</td>\n",
       "      <td>7</td>\n",
       "      <td>22.6</td>\n",
       "      <td>0.0</td>\n",
       "      <td>0</td>\n",
       "      <td>0.0</td>\n",
       "    </tr>\n",
       "    <tr>\n",
       "      <th>2132</th>\n",
       "      <td>ZAM</td>\n",
       "      <td>Zambia</td>\n",
       "      <td>2016</td>\n",
       "      <td>7</td>\n",
       "      <td>24.1</td>\n",
       "      <td>0.0</td>\n",
       "      <td>0</td>\n",
       "      <td>0.0</td>\n",
       "    </tr>\n",
       "    <tr>\n",
       "      <th>2142</th>\n",
       "      <td>ZIM</td>\n",
       "      <td>Zimbabwe</td>\n",
       "      <td>2012</td>\n",
       "      <td>9</td>\n",
       "      <td>27.3</td>\n",
       "      <td>4.0</td>\n",
       "      <td>0</td>\n",
       "      <td>2.0</td>\n",
       "    </tr>\n",
       "    <tr>\n",
       "      <th>2143</th>\n",
       "      <td>ZIM</td>\n",
       "      <td>Zimbabwe</td>\n",
       "      <td>2016</td>\n",
       "      <td>31</td>\n",
       "      <td>27.5</td>\n",
       "      <td>0.0</td>\n",
       "      <td>0</td>\n",
       "      <td>0.0</td>\n",
       "    </tr>\n",
       "  </tbody>\n",
       "</table>\n",
       "<p>405 rows × 8 columns</p>\n",
       "</div>"
      ],
      "text/plain": [
       "     team      country  year  athletes   age  prev_medals  medals  predictions\n",
       "6     AFG  Afghanistan  2012         6  24.8          1.0       1          0.0\n",
       "7     AFG  Afghanistan  2016         3  24.7          1.0       0          0.0\n",
       "24    ALB      Albania  2012        10  25.7          0.0       0          0.0\n",
       "25    ALB      Albania  2016         6  23.7          0.0       0          0.0\n",
       "37    ALG      Algeria  2012        39  24.8          2.0       1          2.0\n",
       "...   ...          ...   ...       ...   ...          ...     ...          ...\n",
       "2111  YEM        Yemen  2016         3  19.3          0.0       0          0.0\n",
       "2131  ZAM       Zambia  2012         7  22.6          0.0       0          0.0\n",
       "2132  ZAM       Zambia  2016         7  24.1          0.0       0          0.0\n",
       "2142  ZIM     Zimbabwe  2012         9  27.3          4.0       0          2.0\n",
       "2143  ZIM     Zimbabwe  2016        31  27.5          0.0       0          0.0\n",
       "\n",
       "[405 rows x 8 columns]"
      ]
     },
     "execution_count": 176,
     "metadata": {},
     "output_type": "execute_result"
    }
   ],
   "source": [
    "test"
   ]
  },
  {
   "cell_type": "code",
   "execution_count": 178,
   "id": "3a2bee07-d47f-411b-9e45-b7e2526c204e",
   "metadata": {},
   "outputs": [],
   "source": [
    "from sklearn.metrics import mean_absolute_error"
   ]
  },
  {
   "cell_type": "code",
   "execution_count": 202,
   "id": "90da6531-e17d-4f84-8f95-f3653ddde659",
   "metadata": {},
   "outputs": [],
   "source": [
    "error = mean_absolute_error(test[\"medals\"], test[\"predictions\"])"
   ]
  },
  {
   "cell_type": "code",
   "execution_count": 204,
   "id": "c153f55d-02d1-4e0a-a6ae-41a7fdcf63da",
   "metadata": {},
   "outputs": [
    {
     "data": {
      "text/plain": [
       "3.2987654320987656"
      ]
     },
     "execution_count": 204,
     "metadata": {},
     "output_type": "execute_result"
    }
   ],
   "source": [
    "error"
   ]
  },
  {
   "cell_type": "code",
   "execution_count": 206,
   "id": "15e1bfe8-8b9a-4a42-b513-ae6da93fd8a1",
   "metadata": {},
   "outputs": [
    {
     "data": {
      "text/plain": [
       "count    2014.000000\n",
       "mean       10.990070\n",
       "std        33.627528\n",
       "min         0.000000\n",
       "25%         0.000000\n",
       "50%         0.000000\n",
       "75%         5.000000\n",
       "max       442.000000\n",
       "Name: medals, dtype: float64"
      ]
     },
     "execution_count": 206,
     "metadata": {},
     "output_type": "execute_result"
    }
   ],
   "source": [
    "teams.describe()[\"medals\"]"
   ]
  },
  {
   "cell_type": "code",
   "execution_count": 208,
   "id": "75202780-ae50-4c78-a2e7-c3ed4f685368",
   "metadata": {},
   "outputs": [
    {
     "data": {
      "text/html": [
       "<div>\n",
       "<style scoped>\n",
       "    .dataframe tbody tr th:only-of-type {\n",
       "        vertical-align: middle;\n",
       "    }\n",
       "\n",
       "    .dataframe tbody tr th {\n",
       "        vertical-align: top;\n",
       "    }\n",
       "\n",
       "    .dataframe thead th {\n",
       "        text-align: right;\n",
       "    }\n",
       "</style>\n",
       "<table border=\"1\" class=\"dataframe\">\n",
       "  <thead>\n",
       "    <tr style=\"text-align: right;\">\n",
       "      <th></th>\n",
       "      <th>team</th>\n",
       "      <th>country</th>\n",
       "      <th>year</th>\n",
       "      <th>athletes</th>\n",
       "      <th>age</th>\n",
       "      <th>prev_medals</th>\n",
       "      <th>medals</th>\n",
       "      <th>predictions</th>\n",
       "    </tr>\n",
       "  </thead>\n",
       "  <tbody>\n",
       "    <tr>\n",
       "      <th>2053</th>\n",
       "      <td>USA</td>\n",
       "      <td>United States</td>\n",
       "      <td>2012</td>\n",
       "      <td>689</td>\n",
       "      <td>26.7</td>\n",
       "      <td>317.0</td>\n",
       "      <td>248</td>\n",
       "      <td>285.0</td>\n",
       "    </tr>\n",
       "    <tr>\n",
       "      <th>2054</th>\n",
       "      <td>USA</td>\n",
       "      <td>United States</td>\n",
       "      <td>2016</td>\n",
       "      <td>719</td>\n",
       "      <td>26.4</td>\n",
       "      <td>248.0</td>\n",
       "      <td>264</td>\n",
       "      <td>236.0</td>\n",
       "    </tr>\n",
       "  </tbody>\n",
       "</table>\n",
       "</div>"
      ],
      "text/plain": [
       "     team        country  year  athletes   age  prev_medals  medals  \\\n",
       "2053  USA  United States  2012       689  26.7        317.0     248   \n",
       "2054  USA  United States  2016       719  26.4        248.0     264   \n",
       "\n",
       "      predictions  \n",
       "2053        285.0  \n",
       "2054        236.0  "
      ]
     },
     "execution_count": 208,
     "metadata": {},
     "output_type": "execute_result"
    }
   ],
   "source": [
    "test[test[\"team\"] == \"USA\"]"
   ]
  },
  {
   "cell_type": "code",
   "execution_count": 210,
   "id": "78242f13-fbef-4c37-b5ef-5c2970b8bc8b",
   "metadata": {},
   "outputs": [
    {
     "data": {
      "text/html": [
       "<div>\n",
       "<style scoped>\n",
       "    .dataframe tbody tr th:only-of-type {\n",
       "        vertical-align: middle;\n",
       "    }\n",
       "\n",
       "    .dataframe tbody tr th {\n",
       "        vertical-align: top;\n",
       "    }\n",
       "\n",
       "    .dataframe thead th {\n",
       "        text-align: right;\n",
       "    }\n",
       "</style>\n",
       "<table border=\"1\" class=\"dataframe\">\n",
       "  <thead>\n",
       "    <tr style=\"text-align: right;\">\n",
       "      <th></th>\n",
       "      <th>team</th>\n",
       "      <th>country</th>\n",
       "      <th>year</th>\n",
       "      <th>athletes</th>\n",
       "      <th>age</th>\n",
       "      <th>prev_medals</th>\n",
       "      <th>medals</th>\n",
       "      <th>predictions</th>\n",
       "    </tr>\n",
       "  </thead>\n",
       "  <tbody>\n",
       "    <tr>\n",
       "      <th>907</th>\n",
       "      <td>IND</td>\n",
       "      <td>India</td>\n",
       "      <td>2012</td>\n",
       "      <td>95</td>\n",
       "      <td>26.0</td>\n",
       "      <td>3.0</td>\n",
       "      <td>6</td>\n",
       "      <td>7.0</td>\n",
       "    </tr>\n",
       "    <tr>\n",
       "      <th>908</th>\n",
       "      <td>IND</td>\n",
       "      <td>India</td>\n",
       "      <td>2016</td>\n",
       "      <td>130</td>\n",
       "      <td>26.1</td>\n",
       "      <td>6.0</td>\n",
       "      <td>2</td>\n",
       "      <td>12.0</td>\n",
       "    </tr>\n",
       "  </tbody>\n",
       "</table>\n",
       "</div>"
      ],
      "text/plain": [
       "    team country  year  athletes   age  prev_medals  medals  predictions\n",
       "907  IND   India  2012        95  26.0          3.0       6          7.0\n",
       "908  IND   India  2016       130  26.1          6.0       2         12.0"
      ]
     },
     "execution_count": 210,
     "metadata": {},
     "output_type": "execute_result"
    }
   ],
   "source": [
    "test[test[\"team\"] == \"IND\"]"
   ]
  },
  {
   "cell_type": "code",
   "execution_count": 216,
   "id": "3cf69e8e-e695-4504-b9ce-7526d792656c",
   "metadata": {},
   "outputs": [],
   "source": [
    "errors = (test[\"medals\"] - test[\"predictions\"]).abs()"
   ]
  },
  {
   "cell_type": "code",
   "execution_count": 218,
   "id": "9436a987-c532-4013-b0d4-759bdff52345",
   "metadata": {},
   "outputs": [
    {
     "data": {
      "text/plain": [
       "6       1.0\n",
       "7       0.0\n",
       "24      0.0\n",
       "25      0.0\n",
       "37      1.0\n",
       "       ... \n",
       "2111    0.0\n",
       "2131    0.0\n",
       "2132    0.0\n",
       "2142    2.0\n",
       "2143    0.0\n",
       "Length: 405, dtype: float64"
      ]
     },
     "execution_count": 218,
     "metadata": {},
     "output_type": "execute_result"
    }
   ],
   "source": [
    "errors"
   ]
  },
  {
   "cell_type": "code",
   "execution_count": 240,
   "id": "795b96bf-6f30-4197-ae2a-af1ed7136538",
   "metadata": {},
   "outputs": [],
   "source": [
    "error_by_team = errors.groupby(test[\"team\"]).mean()"
   ]
  },
  {
   "cell_type": "code",
   "execution_count": 242,
   "id": "f4ee841f-3bda-4221-8dec-04829299acd4",
   "metadata": {},
   "outputs": [
    {
     "data": {
      "text/plain": [
       "team\n",
       "AFG    0.5\n",
       "ALB    0.0\n",
       "ALG    1.5\n",
       "AND    0.0\n",
       "ANG    0.0\n",
       "      ... \n",
       "VIE    1.0\n",
       "VIN    0.0\n",
       "YEM    0.0\n",
       "ZAM    0.0\n",
       "ZIM    1.0\n",
       "Length: 204, dtype: float64"
      ]
     },
     "execution_count": 242,
     "metadata": {},
     "output_type": "execute_result"
    }
   ],
   "source": [
    "error_by_team"
   ]
  },
  {
   "cell_type": "code",
   "execution_count": 250,
   "id": "8281cc27-d180-4279-b463-16f93064d964",
   "metadata": {},
   "outputs": [],
   "source": [
    "medals_by_team = test[\"medals\"].groupby(test[\"team\"]).mean()"
   ]
  },
  {
   "cell_type": "code",
   "execution_count": 252,
   "id": "a6717a29-0f05-44da-9ad1-760c89f1b9b6",
   "metadata": {},
   "outputs": [],
   "source": [
    "error_ratio = error_by_team / medals_by_team"
   ]
  },
  {
   "cell_type": "code",
   "execution_count": 254,
   "id": "6a3a0e13-982e-4020-a377-1bd1e569c7e9",
   "metadata": {},
   "outputs": [
    {
     "data": {
      "text/plain": [
       "team\n",
       "AFG    1.0\n",
       "ALB    NaN\n",
       "ALG    1.0\n",
       "AND    NaN\n",
       "ANG    NaN\n",
       "      ... \n",
       "VIE    1.0\n",
       "VIN    NaN\n",
       "YEM    NaN\n",
       "ZAM    NaN\n",
       "ZIM    inf\n",
       "Length: 204, dtype: float64"
      ]
     },
     "execution_count": 254,
     "metadata": {},
     "output_type": "execute_result"
    }
   ],
   "source": [
    "error_ratio"
   ]
  },
  {
   "cell_type": "code",
   "execution_count": 258,
   "id": "203d5e45-de38-439f-8e99-0e3918967554",
   "metadata": {},
   "outputs": [
    {
     "data": {
      "text/plain": [
       "team\n",
       "AFG    1.000000\n",
       "ALG    1.000000\n",
       "ARG    0.853659\n",
       "ARM    0.428571\n",
       "AUS    0.367347\n",
       "         ...   \n",
       "USA    0.126953\n",
       "UZB    0.625000\n",
       "VEN    1.750000\n",
       "VIE    1.000000\n",
       "ZIM         inf\n",
       "Length: 102, dtype: float64"
      ]
     },
     "execution_count": 258,
     "metadata": {},
     "output_type": "execute_result"
    }
   ],
   "source": [
    "error_ratio[~pd.isnull(error_ratio)]"
   ]
  },
  {
   "cell_type": "code",
   "execution_count": 260,
   "id": "c2a14585-98af-476a-a997-28a533d77a8b",
   "metadata": {},
   "outputs": [],
   "source": [
    "import numpy as np"
   ]
  },
  {
   "cell_type": "code",
   "execution_count": 262,
   "id": "e1199830-6b57-47ab-9efd-88079e2bebf3",
   "metadata": {},
   "outputs": [],
   "source": [
    "error_ratio = error_ratio[np.isfinite(error_ratio)]"
   ]
  },
  {
   "cell_type": "code",
   "execution_count": 264,
   "id": "780aaa1e-0d7a-4f3e-a366-3d29349d728f",
   "metadata": {},
   "outputs": [
    {
     "data": {
      "text/plain": [
       "team\n",
       "AFG    1.000000\n",
       "ALG    1.000000\n",
       "ARG    0.853659\n",
       "ARM    0.428571\n",
       "AUS    0.367347\n",
       "         ...   \n",
       "UKR    0.951220\n",
       "USA    0.126953\n",
       "UZB    0.625000\n",
       "VEN    1.750000\n",
       "VIE    1.000000\n",
       "Length: 97, dtype: float64"
      ]
     },
     "execution_count": 264,
     "metadata": {},
     "output_type": "execute_result"
    }
   ],
   "source": [
    "error_ratio"
   ]
  },
  {
   "cell_type": "code",
   "execution_count": 268,
   "id": "deb547a1-3a6a-4124-b462-9b16a0f26ea2",
   "metadata": {},
   "outputs": [
    {
     "data": {
      "text/plain": [
       "<Axes: ylabel='Frequency'>"
      ]
     },
     "execution_count": 268,
     "metadata": {},
     "output_type": "execute_result"
    },
    {
     "data": {
      "image/png": "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",
      "text/plain": [
       "<Figure size 640x480 with 1 Axes>"
      ]
     },
     "metadata": {},
     "output_type": "display_data"
    }
   ],
   "source": [
    "error_ratio.plot.hist()"
   ]
  },
  {
   "cell_type": "code",
   "execution_count": 270,
   "id": "43e0ef57-c38c-4e5a-8fb4-39386405a005",
   "metadata": {},
   "outputs": [
    {
     "data": {
      "text/plain": [
       "team\n",
       "FRA    0.022472\n",
       "CAN    0.048387\n",
       "NZL    0.063492\n",
       "RUS    0.082353\n",
       "ITA    0.121429\n",
       "         ...   \n",
       "MAR    2.000000\n",
       "EGY    2.400000\n",
       "HKG    3.000000\n",
       "POR    3.333333\n",
       "AUT    4.500000\n",
       "Length: 97, dtype: float64"
      ]
     },
     "execution_count": 270,
     "metadata": {},
     "output_type": "execute_result"
    }
   ],
   "source": [
    "error_ratio.sort_values()"
   ]
  },
  {
   "cell_type": "markdown",
   "id": "20ecdac9-6ba8-47ba-acec-e4e261c6f398",
   "metadata": {},
   "source": [
    "Model did not turn out to be as accurate as hoped.",
   ]
  }
 ],
 "metadata": {
  "kernelspec": {
   "display_name": "anaconda-panel-2023.05-py310",
   "language": "python",
   "name": "conda-env-anaconda-panel-2023.05-py310-py"
  },
  "language_info": {
   "codemirror_mode": {
    "name": "ipython",
    "version": 3
   },
   "file_extension": ".py",
   "mimetype": "text/x-python",
   "name": "python",
   "nbconvert_exporter": "python",
   "pygments_lexer": "ipython3",
   "version": "3.11.5"
  }
 },
 "nbformat": 4,
 "nbformat_minor": 5
}
